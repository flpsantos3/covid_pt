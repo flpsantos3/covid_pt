{
  "cells": [
    {
      "cell_type": "markdown",
      "metadata": {
        "colab_type": "text",
        "id": "view-in-github"
      },
      "source": [
        "<a href=\"https://colab.research.google.com/github/flpsantos3/covid_pt/blob/main/casos_covid_PT.ipynb\" target=\"_parent\"><img src=\"https://colab.research.google.com/assets/colab-badge.svg\" alt=\"Open In Colab\"/></a>"
      ]
    },
    {
      "cell_type": "code",
      "execution_count": null,
      "metadata": {
        "colab": {
          "base_uri": "https://localhost:8080/"
        },
        "id": "S5_OF7-76UwR",
        "outputId": "34400ab9-e348-4670-859f-d2225588596d"
      },
      "outputs": [],
      "source": [
        "from google.colab import drive\n",
        "drive.mount('/content/drive')"
      ]
    },
    {
      "cell_type": "code",
      "execution_count": null,
      "metadata": {
        "id": "RIcYFpbG6RDm"
      },
      "outputs": [],
      "source": [
        "import pandas as pd\n",
        "import seaborn as sb\n",
        "import matplotlib.pyplot as plt\n",
        "import datetime"
      ]
    },
    {
      "cell_type": "markdown",
      "metadata": {
        "id": "UoTP3oJAc25j"
      },
      "source": [
        "**Sources:**\n",
        "\n",
        "* vax - https://www.kaggle.com/komalkhetlani/coronavirus-covid19-vaccinations\n",
        "* vax2 - https://www.ecdc.europa.eu/en/publications-data/data-covid-19-vaccination-eu-eea\n",
        "* cases - https://www.kaggle.com/hussainaliarif/largest-covid19-world-dataset\n",
        "* cases_2 - https://www.ecdc.europa.eu/en/publications-data/data-daily-new-cases-covid-19-eueea-country\n",
        "* hosp - https://www.ecdc.europa.eu/en/publications-data/download-data-hospital-and-icu-admission-rates-and-current-occupancy-covid-19\n",
        "* vars - https://www.ecdc.europa.eu/en/publications-data/data-virus-variants-covid-19-eueea"
      ]
    },
    {
      "cell_type": "code",
      "execution_count": null,
      "metadata": {
        "id": "ox_qMkpb6vuX"
      },
      "outputs": [],
      "source": [
        "vax=pd.read_csv('/content/drive/MyDrive/Datasets/world_vax.csv')\n",
        "vax2=pd.read_csv('https://opendata.ecdc.europa.eu/covid19/vaccine_tracker/csv/data.csv')\n",
        "cases=pd.read_csv('/content/drive/MyDrive/Datasets/Covid-19-World-Dataset.csv')\n",
        "vars=pd.read_csv('https://opendata.ecdc.europa.eu/covid19/virusvariant/csv/data.csv')\n",
        "hosp=pd.read_csv('https://opendata.ecdc.europa.eu/covid19/hospitalicuadmissionrates/csv/data.csv')\n",
        "cases_2=pd.read_csv('https://opendata.ecdc.europa.eu/covid19/nationalcasedeath_eueea_daily_ei/csv/data.csv')"
      ]
    },
    {
      "cell_type": "markdown",
      "metadata": {
        "id": "ialmJtUYmqyU"
      },
      "source": [
        "# Vaccines"
      ]
    },
    {
      "cell_type": "code",
      "execution_count": null,
      "metadata": {
        "colab": {
          "base_uri": "https://localhost:8080/",
          "height": 234
        },
        "id": "u7rqgIC164te",
        "outputId": "482c6ff9-6887-48b1-d0f7-94a060b764ec"
      },
      "outputs": [],
      "source": [
        "vax=vax.drop([0]).reset_index(drop=True)\n",
        "vax_pt=vax.loc[(vax.location=='Portugal')].sort_values(by='date').reset_index(drop=True)\n",
        "vax_pt.tail()"
      ]
    },
    {
      "cell_type": "code",
      "execution_count": null,
      "metadata": {
        "colab": {
          "base_uri": "https://localhost:8080/",
          "height": 446
        },
        "id": "rrmJCLjcDF4s",
        "outputId": "342207d4-eb83-41db-baea-60e0a75caec1"
      },
      "outputs": [],
      "source": [
        "plt.figure(figsize=(14,6))\n",
        "plt.plot(vax_pt.date, vax_pt.people_vaccinated, label='First Dose & Full')\n",
        "plt.plot(vax_pt.date, vax_pt.people_fully_vaccinated, label='Fully Vaxed')\n",
        "plt.legend(loc='upper left')\n",
        "plt.grid()\n",
        "plt.xticks(range(0, len(vax_pt.date), 15))\n",
        "plt.tight_layout()\n",
        "plt.title('Total Number of People Vaccinated in Portugal')\n",
        "plt.show()"
      ]
    },
    {
      "cell_type": "code",
      "execution_count": null,
      "metadata": {
        "colab": {
          "base_uri": "https://localhost:8080/",
          "height": 457
        },
        "id": "8MasPtZ2S4Zl",
        "outputId": "0a867d85-0e8c-42c0-e4c0-b777c3359a0a"
      },
      "outputs": [],
      "source": [
        "plt.figure(figsize=(14,6))\n",
        "plt.plot(vax_pt.date, vax_pt.daily_vaccinations, label='Daily Doses')\n",
        "plt.legend(loc='upper left')\n",
        "plt.grid()\n",
        "plt.xticks(range(0, len(vax_pt.date), 15))\n",
        "plt.tight_layout()\n",
        "plt.title('Daily Vaccine Doses Administred in Portugal')\n",
        "plt.show()"
      ]
    },
    {
      "cell_type": "code",
      "execution_count": null,
      "metadata": {
        "colab": {
          "base_uri": "https://localhost:8080/",
          "height": 81
        },
        "id": "3cq6j2dqRAzl",
        "outputId": "221e1fad-271a-419e-81a9-66dd8642c17a"
      },
      "outputs": [],
      "source": [
        "vax_pt.daily_vaccinations=vax_pt.daily_vaccinations.astype(float) # daily_vax is object\n",
        "vax_pt[['date','daily_vaccinations']].loc[vax_pt.daily_vaccinations==vax_pt.daily_vaccinations.max()]"
      ]
    },
    {
      "cell_type": "markdown",
      "metadata": {
        "id": "6YcqE9kemtDv"
      },
      "source": [
        "# Cases & Deaths"
      ]
    },
    {
      "cell_type": "code",
      "execution_count": null,
      "metadata": {
        "colab": {
          "base_uri": "https://localhost:8080/",
          "height": 260
        },
        "id": "Ne0T1bMPHhBz",
        "outputId": "1200dc9d-175d-45f1-e1ba-5c697c970fde"
      },
      "outputs": [],
      "source": [
        "cases_pt=cases[cases.location=='Portugal'].sort_values(by='date').reset_index(drop=True)\n",
        "cases_pt.head(3)"
      ]
    },
    {
      "cell_type": "code",
      "execution_count": null,
      "metadata": {
        "colab": {
          "base_uri": "https://localhost:8080/",
          "height": 305
        },
        "id": "u0Kd1R5EIz_r",
        "outputId": "05172154-cc45-4b2c-e9db-13bf73a0adce"
      },
      "outputs": [],
      "source": [
        "# convert datetime to YYYY-MM-DD format\n",
        "new_dates=[]\n",
        "dates=list(cases_pt.date)\n",
        "for val in dates:\n",
        "  d=datetime.datetime.strptime(val, '%m/%d/%Y')\n",
        "  new_dates.append(d.strftime('%Y-%m-%d'))\n",
        "\n",
        "cases_pt['date']=new_dates\n",
        "cases_pt.sort_values(by='date', inplace=True)\n",
        "cases_pt.tail()"
      ]
    },
    {
      "cell_type": "code",
      "execution_count": null,
      "metadata": {
        "colab": {
          "base_uri": "https://localhost:8080/",
          "height": 143
        },
        "id": "YQQhQWffgNYe",
        "outputId": "f0ec61aa-30d7-47ac-bfac-30b42da6968d"
      },
      "outputs": [],
      "source": [
        "cases_pt2=cases_2[cases_2.countriesAndTerritories=='Portugal'].reset_index(drop=True)\n",
        "\n",
        "dates=list(cases_pt2.dateRep)\n",
        "new_dates=[]\n",
        "for val in dates:\n",
        "  d=datetime.datetime.strptime(val, '%d/%m/%Y')\n",
        "  new_dates.append(d.strftime('%Y-%m-%d'))\n",
        "\n",
        "cases_pt2['dateRep']=new_dates\n",
        "cases_pt2=cases_pt2.sort_values(by='dateRep').reset_index(drop=True)\n",
        "cases_pt2=cases_pt2.rename(columns={'dateRep':'date',\n",
        "                            'cases':'new_cases',\n",
        "                            'deaths':'new_deaths'})\n",
        "cases_pt2.tail(3)"
      ]
    },
    {
      "cell_type": "code",
      "execution_count": null,
      "metadata": {
        "id": "bsdrfMlPhabe"
      },
      "outputs": [],
      "source": [
        "cases1=cases_pt[['date', 'new_cases','new_deaths']]\n",
        "cases2=cases_pt2[['date', 'new_cases','new_deaths']]\n",
        "cases2=cases2[cases2.date>'2021-06-29']"
      ]
    },
    {
      "cell_type": "code",
      "execution_count": null,
      "metadata": {
        "colab": {
          "base_uri": "https://localhost:8080/",
          "height": 143
        },
        "id": "3ruZhOUsj2mS",
        "outputId": "f610a8d4-46e6-44ae-a204-edc86c7f9c09"
      },
      "outputs": [],
      "source": [
        "new_cases=pd.concat([cases1, cases2], ignore_index=True)\n",
        "new_cases.tail(3)"
      ]
    },
    {
      "cell_type": "code",
      "execution_count": null,
      "metadata": {
        "colab": {
          "base_uri": "https://localhost:8080/",
          "height": 601
        },
        "id": "OdCu_BGSIWDQ",
        "outputId": "07fec2a5-2b24-4ee4-8fcb-3361040a21b4"
      },
      "outputs": [],
      "source": [
        "plt.figure(figsize=(24,8))\n",
        "plt.plot(new_cases.date, new_cases.new_cases, label='New Cases')\n",
        "plt.legend(loc='upper left')\n",
        "plt.grid()\n",
        "plt.xticks(range(0, len(new_cases.date), 30))\n",
        "plt.tight_layout()\n",
        "plt.title('Evolution of Daily Covid Cases in Portugal')\n",
        "plt.show()"
      ]
    },
    {
      "cell_type": "code",
      "execution_count": null,
      "metadata": {
        "colab": {
          "base_uri": "https://localhost:8080/",
          "height": 81
        },
        "id": "QxdZBfTsPogG",
        "outputId": "01f1def4-7d22-4071-f89d-678a3f8ddbcb"
      },
      "outputs": [],
      "source": [
        "new_cases[['date','new_cases']].loc[new_cases.new_cases==new_cases.new_cases.max()]"
      ]
    },
    {
      "cell_type": "code",
      "execution_count": null,
      "metadata": {
        "colab": {
          "base_uri": "https://localhost:8080/",
          "height": 601
        },
        "id": "iS_H4TX_PIja",
        "outputId": "8d8fc05e-cf50-42ae-a3ba-62eeac095e36"
      },
      "outputs": [],
      "source": [
        "plt.figure(figsize=(24,8))\n",
        "plt.plot(new_cases.date, new_cases.new_deaths, label='Deaths')\n",
        "plt.legend(loc='upper left')\n",
        "plt.grid()\n",
        "plt.xticks(range(0, len(new_cases.date), 35))\n",
        "plt.tight_layout()\n",
        "plt.title('Evolution of Daily Deaths in Portugal')\n",
        "plt.show()"
      ]
    },
    {
      "cell_type": "code",
      "execution_count": null,
      "metadata": {
        "colab": {
          "base_uri": "https://localhost:8080/",
          "height": 112
        },
        "id": "uIUxmt35QPAV",
        "outputId": "69f0b7b7-0876-4bd1-d49f-4b154af66749"
      },
      "outputs": [],
      "source": [
        "new_cases[['date','new_deaths']].loc[new_cases.new_deaths==new_cases.new_deaths.max()]"
      ]
    },
    {
      "cell_type": "markdown",
      "metadata": {
        "id": "cqtdow3yngxD"
      },
      "source": [
        "# Hospitalizations"
      ]
    },
    {
      "cell_type": "code",
      "execution_count": null,
      "metadata": {
        "colab": {
          "base_uri": "https://localhost:8080/",
          "height": 143
        },
        "id": "kP4mqqgvW8mr",
        "outputId": "f86bd924-2ff2-40de-d2af-09bbf5d47b00"
      },
      "outputs": [],
      "source": [
        "hosp_pt=hosp.loc[\n",
        "                 (hosp.country=='Portugal') & \n",
        "                 ((hosp.indicator=='Daily hospital occupancy'))\n",
        "                 ].sort_values(by='date').reset_index(drop=True)\n",
        "hosp_pt.head(3)"
      ]
    },
    {
      "cell_type": "code",
      "execution_count": null,
      "metadata": {
        "colab": {
          "base_uri": "https://localhost:8080/",
          "height": 143
        },
        "id": "g6RKN9t6aEhN",
        "outputId": "d4146530-f3df-46cc-b4a4-8df3d1ab9c45"
      },
      "outputs": [],
      "source": [
        "icu_pt=hosp.loc[\n",
        "                 (hosp.country=='Portugal') & \n",
        "                 (hosp.indicator=='Daily ICU occupancy')\n",
        "                 ].sort_values(by='date').reset_index(drop=True)\n",
        "icu_pt.head(3)"
      ]
    },
    {
      "cell_type": "code",
      "execution_count": null,
      "metadata": {
        "colab": {
          "base_uri": "https://localhost:8080/",
          "height": 143
        },
        "id": "UV96S5mqbMYQ",
        "outputId": "8ddd0f19-a4a9-4786-a8cf-5491abb1afd6"
      },
      "outputs": [],
      "source": [
        "hosp_pt['icu']=icu_pt.value\n",
        "hosp_pt.head(3)"
      ]
    },
    {
      "cell_type": "code",
      "execution_count": null,
      "metadata": {
        "colab": {
          "base_uri": "https://localhost:8080/",
          "height": 601
        },
        "id": "zWxURwJ_TvXj",
        "outputId": "ce3546d9-6fe2-4b42-ceac-b809f310087b"
      },
      "outputs": [],
      "source": [
        "plt.figure(figsize=(24,8))\n",
        "plt.plot(hosp_pt.date, hosp_pt.value, label='Hospitalized')\n",
        "plt.plot(hosp_pt.date, hosp_pt.icu, label='ICU')\n",
        "plt.legend(loc='upper left')\n",
        "plt.grid()\n",
        "plt.xticks(range(0, len(hosp_pt.date), 35))\n",
        "plt.tight_layout()\n",
        "plt.title('Number of Hospitalized Patients in Portugal')\n",
        "plt.show()"
      ]
    },
    {
      "cell_type": "code",
      "execution_count": null,
      "metadata": {
        "colab": {
          "base_uri": "https://localhost:8080/",
          "height": 81
        },
        "id": "rij-1L1wbIkc",
        "outputId": "95d618ee-09c4-4a67-bc31-d20a7f4522bc"
      },
      "outputs": [],
      "source": [
        "hosp_pt[['date','value']].loc[hosp_pt.value==hosp_pt.value.max()]"
      ]
    },
    {
      "cell_type": "code",
      "execution_count": null,
      "metadata": {
        "colab": {
          "base_uri": "https://localhost:8080/",
          "height": 81
        },
        "id": "JdBLW9MKbqO9",
        "outputId": "17f1fa0d-e748-4066-d27f-c0c3f8d29152"
      },
      "outputs": [],
      "source": [
        "hosp_pt[['date','icu']].loc[hosp_pt.icu==hosp_pt.icu.max()]"
      ]
    }
  ],
  "metadata": {
    "colab": {
      "authorship_tag": "ABX9TyNj7CLKZPwlbrfHF6WUAgg/",
      "collapsed_sections": [],
      "include_colab_link": true,
      "name": "casos_covid_PT.ipynb",
      "provenance": []
    },
    "kernelspec": {
      "display_name": "Python 3",
      "language": "python",
      "name": "python3"
    },
    "language_info": {
      "codemirror_mode": {
        "name": "ipython",
        "version": 3
      },
      "file_extension": ".py",
      "mimetype": "text/x-python",
      "name": "python",
      "nbconvert_exporter": "python",
      "pygments_lexer": "ipython3",
      "version": "3.11.1"
    },
    "vscode": {
      "interpreter": {
        "hash": "2442fd8077f43dc9924e5b9b9d1f0f285037ab0c18683f542b948fedbff5db91"
      }
    }
  },
  "nbformat": 4,
  "nbformat_minor": 0
}
